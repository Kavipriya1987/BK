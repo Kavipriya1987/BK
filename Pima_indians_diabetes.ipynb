{
 "cells": [
  {
   "cell_type": "code",
   "execution_count": 3,
   "id": "d6f25738-d484-45d2-9330-994d59fe30b3",
   "metadata": {},
   "outputs": [],
   "source": [
    "from numpy import  loadtxt\n",
    "from tensorflow import keras\n",
    "from tensorflow.keras.models import Sequential\n",
    "from tensorflow.keras.layers import Dense"
   ]
  },
  {
   "cell_type": "code",
   "execution_count": 4,
   "id": "30c2fad9-83bc-4969-81e1-9ce7df2eeea4",
   "metadata": {},
   "outputs": [
    {
     "name": "stdout",
     "output_type": "stream",
     "text": [
      "Requirement already satisfied: keras in c:\\users\\internet centre 43\\anaconda3\\lib\\site-packages (3.10.0)\n",
      "Requirement already satisfied: absl-py in c:\\users\\internet centre 43\\anaconda3\\lib\\site-packages (from keras) (2.3.0)\n",
      "Requirement already satisfied: numpy in c:\\users\\internet centre 43\\anaconda3\\lib\\site-packages (from keras) (1.26.4)\n",
      "Requirement already satisfied: rich in c:\\users\\internet centre 43\\anaconda3\\lib\\site-packages (from keras) (13.7.1)\n",
      "Requirement already satisfied: namex in c:\\users\\internet centre 43\\anaconda3\\lib\\site-packages (from keras) (0.1.0)\n",
      "Requirement already satisfied: h5py in c:\\users\\internet centre 43\\anaconda3\\lib\\site-packages (from keras) (3.11.0)\n",
      "Requirement already satisfied: optree in c:\\users\\internet centre 43\\anaconda3\\lib\\site-packages (from keras) (0.16.0)\n",
      "Requirement already satisfied: ml-dtypes in c:\\users\\internet centre 43\\anaconda3\\lib\\site-packages (from keras) (0.5.1)\n",
      "Requirement already satisfied: packaging in c:\\users\\internet centre 43\\anaconda3\\lib\\site-packages (from keras) (24.1)\n",
      "Requirement already satisfied: typing-extensions>=4.6.0 in c:\\users\\internet centre 43\\anaconda3\\lib\\site-packages (from optree->keras) (4.11.0)\n",
      "Requirement already satisfied: markdown-it-py>=2.2.0 in c:\\users\\internet centre 43\\anaconda3\\lib\\site-packages (from rich->keras) (2.2.0)\n",
      "Requirement already satisfied: pygments<3.0.0,>=2.13.0 in c:\\users\\internet centre 43\\anaconda3\\lib\\site-packages (from rich->keras) (2.15.1)\n",
      "Requirement already satisfied: mdurl~=0.1 in c:\\users\\internet centre 43\\anaconda3\\lib\\site-packages (from markdown-it-py>=2.2.0->rich->keras) (0.1.0)\n",
      "Note: you may need to restart the kernel to use updated packages.\n"
     ]
    }
   ],
   "source": [
    "pip install keras\n"
   ]
  },
  {
   "cell_type": "code",
   "execution_count": 6,
   "id": "79473561-b8d3-46b5-a51c-a9b1dbbcce7f",
   "metadata": {},
   "outputs": [
    {
     "name": "stdout",
     "output_type": "stream",
     "text": [
      "Collecting tensorflow\n",
      "  Downloading tensorflow-2.19.0-cp312-cp312-win_amd64.whl.metadata (4.1 kB)\n",
      "Requirement already satisfied: absl-py>=1.0.0 in c:\\users\\internet centre 43\\anaconda3\\lib\\site-packages (from tensorflow) (2.3.0)\n",
      "Collecting astunparse>=1.6.0 (from tensorflow)\n",
      "  Downloading astunparse-1.6.3-py2.py3-none-any.whl.metadata (4.4 kB)\n",
      "Collecting flatbuffers>=24.3.25 (from tensorflow)\n",
      "  Downloading flatbuffers-25.2.10-py2.py3-none-any.whl.metadata (875 bytes)\n",
      "Collecting gast!=0.5.0,!=0.5.1,!=0.5.2,>=0.2.1 (from tensorflow)\n",
      "  Downloading gast-0.6.0-py3-none-any.whl.metadata (1.3 kB)\n",
      "Collecting google-pasta>=0.1.1 (from tensorflow)\n",
      "  Downloading google_pasta-0.2.0-py3-none-any.whl.metadata (814 bytes)\n",
      "Collecting libclang>=13.0.0 (from tensorflow)\n",
      "  Downloading libclang-18.1.1-py2.py3-none-win_amd64.whl.metadata (5.3 kB)\n",
      "Collecting opt-einsum>=2.3.2 (from tensorflow)\n",
      "  Downloading opt_einsum-3.4.0-py3-none-any.whl.metadata (6.3 kB)\n",
      "Requirement already satisfied: packaging in c:\\users\\internet centre 43\\anaconda3\\lib\\site-packages (from tensorflow) (24.1)\n",
      "Requirement already satisfied: protobuf!=4.21.0,!=4.21.1,!=4.21.2,!=4.21.3,!=4.21.4,!=4.21.5,<6.0.0dev,>=3.20.3 in c:\\users\\internet centre 43\\anaconda3\\lib\\site-packages (from tensorflow) (4.25.3)\n",
      "Requirement already satisfied: requests<3,>=2.21.0 in c:\\users\\internet centre 43\\anaconda3\\lib\\site-packages (from tensorflow) (2.32.3)\n",
      "Requirement already satisfied: setuptools in c:\\users\\internet centre 43\\anaconda3\\lib\\site-packages (from tensorflow) (75.1.0)\n",
      "Requirement already satisfied: six>=1.12.0 in c:\\users\\internet centre 43\\anaconda3\\lib\\site-packages (from tensorflow) (1.16.0)\n",
      "Collecting termcolor>=1.1.0 (from tensorflow)\n",
      "  Downloading termcolor-3.1.0-py3-none-any.whl.metadata (6.4 kB)\n",
      "Requirement already satisfied: typing-extensions>=3.6.6 in c:\\users\\internet centre 43\\anaconda3\\lib\\site-packages (from tensorflow) (4.11.0)\n",
      "Requirement already satisfied: wrapt>=1.11.0 in c:\\users\\internet centre 43\\anaconda3\\lib\\site-packages (from tensorflow) (1.14.1)\n",
      "Collecting grpcio<2.0,>=1.24.3 (from tensorflow)\n",
      "  Downloading grpcio-1.73.0-cp312-cp312-win_amd64.whl.metadata (4.0 kB)\n",
      "Collecting tensorboard~=2.19.0 (from tensorflow)\n",
      "  Downloading tensorboard-2.19.0-py3-none-any.whl.metadata (1.8 kB)\n",
      "Requirement already satisfied: keras>=3.5.0 in c:\\users\\internet centre 43\\anaconda3\\lib\\site-packages (from tensorflow) (3.10.0)\n",
      "Requirement already satisfied: numpy<2.2.0,>=1.26.0 in c:\\users\\internet centre 43\\anaconda3\\lib\\site-packages (from tensorflow) (1.26.4)\n",
      "Requirement already satisfied: h5py>=3.11.0 in c:\\users\\internet centre 43\\anaconda3\\lib\\site-packages (from tensorflow) (3.11.0)\n",
      "Requirement already satisfied: ml-dtypes<1.0.0,>=0.5.1 in c:\\users\\internet centre 43\\anaconda3\\lib\\site-packages (from tensorflow) (0.5.1)\n",
      "Requirement already satisfied: wheel<1.0,>=0.23.0 in c:\\users\\internet centre 43\\anaconda3\\lib\\site-packages (from astunparse>=1.6.0->tensorflow) (0.44.0)\n",
      "Requirement already satisfied: rich in c:\\users\\internet centre 43\\anaconda3\\lib\\site-packages (from keras>=3.5.0->tensorflow) (13.7.1)\n",
      "Requirement already satisfied: namex in c:\\users\\internet centre 43\\anaconda3\\lib\\site-packages (from keras>=3.5.0->tensorflow) (0.1.0)\n",
      "Requirement already satisfied: optree in c:\\users\\internet centre 43\\anaconda3\\lib\\site-packages (from keras>=3.5.0->tensorflow) (0.16.0)\n",
      "Requirement already satisfied: charset-normalizer<4,>=2 in c:\\users\\internet centre 43\\anaconda3\\lib\\site-packages (from requests<3,>=2.21.0->tensorflow) (3.3.2)\n",
      "Requirement already satisfied: idna<4,>=2.5 in c:\\users\\internet centre 43\\anaconda3\\lib\\site-packages (from requests<3,>=2.21.0->tensorflow) (3.7)\n",
      "Requirement already satisfied: urllib3<3,>=1.21.1 in c:\\users\\internet centre 43\\anaconda3\\lib\\site-packages (from requests<3,>=2.21.0->tensorflow) (2.2.3)\n",
      "Requirement already satisfied: certifi>=2017.4.17 in c:\\users\\internet centre 43\\anaconda3\\lib\\site-packages (from requests<3,>=2.21.0->tensorflow) (2024.8.30)\n",
      "Requirement already satisfied: markdown>=2.6.8 in c:\\users\\internet centre 43\\anaconda3\\lib\\site-packages (from tensorboard~=2.19.0->tensorflow) (3.4.1)\n",
      "Collecting tensorboard-data-server<0.8.0,>=0.7.0 (from tensorboard~=2.19.0->tensorflow)\n",
      "  Downloading tensorboard_data_server-0.7.2-py3-none-any.whl.metadata (1.1 kB)\n",
      "Requirement already satisfied: werkzeug>=1.0.1 in c:\\users\\internet centre 43\\anaconda3\\lib\\site-packages (from tensorboard~=2.19.0->tensorflow) (3.0.3)\n",
      "Requirement already satisfied: MarkupSafe>=2.1.1 in c:\\users\\internet centre 43\\anaconda3\\lib\\site-packages (from werkzeug>=1.0.1->tensorboard~=2.19.0->tensorflow) (2.1.3)\n",
      "Requirement already satisfied: markdown-it-py>=2.2.0 in c:\\users\\internet centre 43\\anaconda3\\lib\\site-packages (from rich->keras>=3.5.0->tensorflow) (2.2.0)\n",
      "Requirement already satisfied: pygments<3.0.0,>=2.13.0 in c:\\users\\internet centre 43\\anaconda3\\lib\\site-packages (from rich->keras>=3.5.0->tensorflow) (2.15.1)\n",
      "Requirement already satisfied: mdurl~=0.1 in c:\\users\\internet centre 43\\anaconda3\\lib\\site-packages (from markdown-it-py>=2.2.0->rich->keras>=3.5.0->tensorflow) (0.1.0)\n",
      "Downloading tensorflow-2.19.0-cp312-cp312-win_amd64.whl (376.0 MB)\n",
      "   ---------------------------------------- 0.0/376.0 MB ? eta -:--:--\n",
      "   ---------------------------------------- 0.0/376.0 MB ? eta -:--:--\n",
      "   ---------------------------------------- 0.3/376.0 MB ? eta -:--:--\n",
      "   ---------------------------------------- 0.5/376.0 MB 1.0 MB/s eta 0:05:59\n",
      "   ---------------------------------------- 1.0/376.0 MB 1.7 MB/s eta 0:03:44\n",
      "   ---------------------------------------- 1.6/376.0 MB 2.0 MB/s eta 0:03:12\n",
      "   ---------------------------------------- 2.4/376.0 MB 2.2 MB/s eta 0:02:47\n",
      "   ---------------------------------------- 2.9/376.0 MB 2.4 MB/s eta 0:02:36\n",
      "   ---------------------------------------- 3.9/376.0 MB 2.7 MB/s eta 0:02:20\n",
      "    --------------------------------------- 4.7/376.0 MB 2.9 MB/s eta 0:02:11\n",
      "    --------------------------------------- 5.5/376.0 MB 3.0 MB/s eta 0:02:03\n",
      "    --------------------------------------- 6.8/376.0 MB 3.3 MB/s eta 0:01:53\n",
      "    --------------------------------------- 8.1/376.0 MB 3.5 MB/s eta 0:01:44\n",
      "   - -------------------------------------- 9.4/376.0 MB 3.8 MB/s eta 0:01:37\n",
      "   - -------------------------------------- 11.0/376.0 MB 4.1 MB/s eta 0:01:30\n",
      "   - -------------------------------------- 13.1/376.0 MB 4.4 MB/s eta 0:01:22\n",
      "   - -------------------------------------- 14.9/376.0 MB 4.7 MB/s eta 0:01:17\n",
      "   - -------------------------------------- 17.0/376.0 MB 5.1 MB/s eta 0:01:11\n",
      "   -- ------------------------------------- 19.4/376.0 MB 5.4 MB/s eta 0:01:06\n",
      "   -- ------------------------------------- 22.0/376.0 MB 5.8 MB/s eta 0:01:01\n",
      "   -- ------------------------------------- 24.4/376.0 MB 6.2 MB/s eta 0:00:57\n",
      "   -- ------------------------------------- 26.7/376.0 MB 6.4 MB/s eta 0:00:55\n",
      "   --- ------------------------------------ 30.7/376.0 MB 7.0 MB/s eta 0:00:50\n",
      "   --- ------------------------------------ 34.6/376.0 MB 7.5 MB/s eta 0:00:46\n",
      "   ---- ----------------------------------- 38.8/376.0 MB 8.1 MB/s eta 0:00:42\n",
      "   ---- ----------------------------------- 43.5/376.0 MB 8.7 MB/s eta 0:00:39\n",
      "   ----- ---------------------------------- 49.3/376.0 MB 9.5 MB/s eta 0:00:35\n",
      "   ----- ---------------------------------- 55.3/376.0 MB 10.2 MB/s eta 0:00:32\n",
      "   ------ --------------------------------- 62.1/376.0 MB 11.1 MB/s eta 0:00:29\n",
      "   ------- -------------------------------- 69.7/376.0 MB 12.0 MB/s eta 0:00:26\n",
      "   -------- ------------------------------- 77.9/376.0 MB 12.9 MB/s eta 0:00:24\n",
      "   --------- ------------------------------ 88.1/376.0 MB 14.1 MB/s eta 0:00:21\n",
      "   ---------- ----------------------------- 98.3/376.0 MB 15.2 MB/s eta 0:00:19\n",
      "   ----------- --------------------------- 109.8/376.0 MB 16.5 MB/s eta 0:00:17\n",
      "   ------------ -------------------------- 117.4/376.0 MB 17.1 MB/s eta 0:00:16\n",
      "   ------------- ------------------------- 130.3/376.0 MB 18.4 MB/s eta 0:00:14\n",
      "   -------------- ------------------------ 141.6/376.0 MB 19.4 MB/s eta 0:00:13\n",
      "   ---------------- ---------------------- 154.7/376.0 MB 20.6 MB/s eta 0:00:11\n",
      "   ----------------- --------------------- 167.2/376.0 MB 21.7 MB/s eta 0:00:10\n",
      "   ------------------ -------------------- 174.6/376.0 MB 22.2 MB/s eta 0:00:10\n",
      "   ------------------- ------------------- 185.3/376.0 MB 22.8 MB/s eta 0:00:09\n",
      "   ------------------- ------------------- 191.6/376.0 MB 23.1 MB/s eta 0:00:08\n",
      "   -------------------- ------------------ 201.9/376.0 MB 23.7 MB/s eta 0:00:08\n",
      "   --------------------- ----------------- 210.2/376.0 MB 24.0 MB/s eta 0:00:07\n",
      "   --------------------- ----------------- 211.6/376.0 MB 23.6 MB/s eta 0:00:07\n",
      "   ---------------------- ---------------- 220.7/376.0 MB 24.1 MB/s eta 0:00:07\n",
      "   ------------------------ -------------- 231.7/376.0 MB 24.7 MB/s eta 0:00:06\n",
      "   ------------------------- ------------- 241.7/376.0 MB 25.2 MB/s eta 0:00:06\n",
      "   -------------------------- ------------ 251.9/376.0 MB 25.7 MB/s eta 0:00:05\n",
      "   --------------------------- ----------- 262.4/376.0 MB 26.9 MB/s eta 0:00:05\n",
      "   ---------------------------- ---------- 272.4/376.0 MB 34.3 MB/s eta 0:00:04\n",
      "   ----------------------------- --------- 282.3/376.0 MB 38.5 MB/s eta 0:00:03\n",
      "   ------------------------------ -------- 293.6/376.0 MB 42.2 MB/s eta 0:00:02\n",
      "   ------------------------------- ------- 303.0/376.0 MB 44.0 MB/s eta 0:00:02\n",
      "   ------------------------------- ------- 305.7/376.0 MB 44.2 MB/s eta 0:00:02\n",
      "   -------------------------------- ------ 318.0/376.0 MB 44.9 MB/s eta 0:00:02\n",
      "   --------------------------------- ----- 323.7/376.0 MB 44.7 MB/s eta 0:00:02\n",
      "   ---------------------------------- ---- 331.9/376.0 MB 44.9 MB/s eta 0:00:01\n",
      "   ----------------------------------- --- 339.5/376.0 MB 44.8 MB/s eta 0:00:01\n",
      "   ------------------------------------ -- 347.9/376.0 MB 44.5 MB/s eta 0:00:01\n",
      "   ------------------------------------ -- 354.7/376.0 MB 44.0 MB/s eta 0:00:01\n",
      "   ------------------------------------- - 362.0/376.0 MB 43.5 MB/s eta 0:00:01\n",
      "   --------------------------------------  370.1/376.0 MB 43.0 MB/s eta 0:00:01\n",
      "   --------------------------------------  375.9/376.0 MB 43.3 MB/s eta 0:00:01\n",
      "   --------------------------------------  375.9/376.0 MB 43.3 MB/s eta 0:00:01\n",
      "   --------------------------------------  375.9/376.0 MB 43.3 MB/s eta 0:00:01\n",
      "   --------------------------------------  375.9/376.0 MB 43.3 MB/s eta 0:00:01\n",
      "   --------------------------------------  375.9/376.0 MB 43.3 MB/s eta 0:00:01\n",
      "   --------------------------------------  375.9/376.0 MB 43.3 MB/s eta 0:00:01\n",
      "   --------------------------------------  375.9/376.0 MB 43.3 MB/s eta 0:00:01\n",
      "   --------------------------------------  375.9/376.0 MB 43.3 MB/s eta 0:00:01\n",
      "   --------------------------------------  375.9/376.0 MB 43.3 MB/s eta 0:00:01\n",
      "   --------------------------------------  375.9/376.0 MB 43.3 MB/s eta 0:00:01\n",
      "   --------------------------------------  375.9/376.0 MB 43.3 MB/s eta 0:00:01\n",
      "   --------------------------------------  375.9/376.0 MB 43.3 MB/s eta 0:00:01\n",
      "   --------------------------------------  375.9/376.0 MB 43.3 MB/s eta 0:00:01\n",
      "   --------------------------------------  375.9/376.0 MB 43.3 MB/s eta 0:00:01\n",
      "   --------------------------------------  375.9/376.0 MB 43.3 MB/s eta 0:00:01\n",
      "   --------------------------------------  375.9/376.0 MB 43.3 MB/s eta 0:00:01\n",
      "   --------------------------------------  375.9/376.0 MB 43.3 MB/s eta 0:00:01\n",
      "   --------------------------------------  375.9/376.0 MB 43.3 MB/s eta 0:00:01\n",
      "   --------------------------------------  375.9/376.0 MB 43.3 MB/s eta 0:00:01\n",
      "   --------------------------------------  375.9/376.0 MB 43.3 MB/s eta 0:00:01\n",
      "   --------------------------------------  375.9/376.0 MB 43.3 MB/s eta 0:00:01\n",
      "   --------------------------------------  375.9/376.0 MB 43.3 MB/s eta 0:00:01\n",
      "   --------------------------------------  375.9/376.0 MB 43.3 MB/s eta 0:00:01\n",
      "   --------------------------------------  375.9/376.0 MB 43.3 MB/s eta 0:00:01\n",
      "   --------------------------------------  375.9/376.0 MB 43.3 MB/s eta 0:00:01\n",
      "   --------------------------------------  375.9/376.0 MB 43.3 MB/s eta 0:00:01\n",
      "   --------------------------------------  375.9/376.0 MB 43.3 MB/s eta 0:00:01\n",
      "   --------------------------------------  375.9/376.0 MB 43.3 MB/s eta 0:00:01\n",
      "   --------------------------------------- 376.0/376.0 MB 21.9 MB/s eta 0:00:00\n",
      "Downloading astunparse-1.6.3-py2.py3-none-any.whl (12 kB)\n",
      "Downloading flatbuffers-25.2.10-py2.py3-none-any.whl (30 kB)\n",
      "Downloading gast-0.6.0-py3-none-any.whl (21 kB)\n",
      "Downloading google_pasta-0.2.0-py3-none-any.whl (57 kB)\n",
      "Downloading grpcio-1.73.0-cp312-cp312-win_amd64.whl (4.3 MB)\n",
      "   ---------------------------------------- 0.0/4.3 MB ? eta -:--:--\n",
      "   -------------------------------------- - 4.2/4.3 MB 41.8 MB/s eta 0:00:01\n",
      "   ---------------------------------------- 4.3/4.3 MB 10.4 MB/s eta 0:00:00\n",
      "Downloading libclang-18.1.1-py2.py3-none-win_amd64.whl (26.4 MB)\n",
      "   ---------------------------------------- 0.0/26.4 MB ? eta -:--:--\n",
      "   ------- -------------------------------- 5.0/26.4 MB 30.1 MB/s eta 0:00:01\n",
      "   ------------------ --------------------- 12.1/26.4 MB 29.0 MB/s eta 0:00:01\n",
      "   -------------------------- ------------- 17.8/26.4 MB 28.1 MB/s eta 0:00:01\n",
      "   ------------------------------------ --- 24.1/26.4 MB 28.3 MB/s eta 0:00:01\n",
      "   ---------------------------------------  26.2/26.4 MB 28.6 MB/s eta 0:00:01\n",
      "   ---------------------------------------- 26.4/26.4 MB 22.6 MB/s eta 0:00:00\n",
      "Downloading opt_einsum-3.4.0-py3-none-any.whl (71 kB)\n",
      "Downloading tensorboard-2.19.0-py3-none-any.whl (5.5 MB)\n",
      "   ---------------------------------------- 0.0/5.5 MB ? eta -:--:--\n",
      "   -------------------------------------- - 5.2/5.5 MB 31.9 MB/s eta 0:00:01\n",
      "   ---------------------------------------- 5.5/5.5 MB 21.0 MB/s eta 0:00:00\n",
      "Downloading termcolor-3.1.0-py3-none-any.whl (7.7 kB)\n",
      "Downloading tensorboard_data_server-0.7.2-py3-none-any.whl (2.4 kB)\n",
      "Installing collected packages: libclang, flatbuffers, termcolor, tensorboard-data-server, opt-einsum, grpcio, google-pasta, gast, astunparse, tensorboard, tensorflow\n",
      "Successfully installed astunparse-1.6.3 flatbuffers-25.2.10 gast-0.6.0 google-pasta-0.2.0 grpcio-1.73.0 libclang-18.1.1 opt-einsum-3.4.0 tensorboard-2.19.0 tensorboard-data-server-0.7.2 tensorflow-2.19.0 termcolor-3.1.0\n",
      "Note: you may need to restart the kernel to use updated packages.\n"
     ]
    }
   ],
   "source": [
    "pip install tensorflow"
   ]
  },
  {
   "cell_type": "code",
   "execution_count": 5,
   "id": "8ae075a7-c504-404c-816e-ace344035417",
   "metadata": {},
   "outputs": [],
   "source": [
    "dataset = loadtxt('pima-indians-diabetes.csv',delimiter=',')"
   ]
  },
  {
   "cell_type": "code",
   "execution_count": 7,
   "id": "9d7c17cd-84c4-411f-8279-3a5443437450",
   "metadata": {},
   "outputs": [],
   "source": [
    "x=dataset[:,0:8]\n",
    "y=dataset[:,8]"
   ]
  },
  {
   "cell_type": "code",
   "execution_count": 8,
   "id": "1f63f4d4-debd-4527-8c44-db81f7e4d951",
   "metadata": {},
   "outputs": [
    {
     "name": "stderr",
     "output_type": "stream",
     "text": [
      "C:\\Users\\Internet Centre 43\\anaconda3\\Lib\\site-packages\\keras\\src\\layers\\core\\dense.py:93: UserWarning: Do not pass an `input_shape`/`input_dim` argument to a layer. When using Sequential models, prefer using an `Input(shape)` object as the first layer in the model instead.\n",
      "  super().__init__(activity_regularizer=activity_regularizer, **kwargs)\n"
     ]
    }
   ],
   "source": [
    "model = Sequential()\n",
    "model.add(Dense(8,input_dim=8,activation='relu'))\n",
    "model.add(Dense(1,activation='sigmoid'))"
   ]
  },
  {
   "cell_type": "code",
   "execution_count": 11,
   "id": "178eb1c3-6dd3-4cb9-bf82-4fb54c18969a",
   "metadata": {},
   "outputs": [],
   "source": [
    "model.compile(loss='binary_crossentropy',optimizer='adam',metrics=['accuracy'])"
   ]
  },
  {
   "cell_type": "code",
   "execution_count": 13,
   "id": "530f5a77-c491-4641-bacf-c7e4d35f81a3",
   "metadata": {},
   "outputs": [
    {
     "name": "stdout",
     "output_type": "stream",
     "text": [
      "Epoch 1/30\n",
      "\u001b[1m154/154\u001b[0m \u001b[32m━━━━━━━━━━━━━━━━━━━━\u001b[0m\u001b[37m\u001b[0m \u001b[1m1s\u001b[0m 1ms/step - accuracy: 0.6381 - loss: 18.9955  \n",
      "Epoch 2/30\n",
      "\u001b[1m154/154\u001b[0m \u001b[32m━━━━━━━━━━━━━━━━━━━━\u001b[0m\u001b[37m\u001b[0m \u001b[1m0s\u001b[0m 1ms/step - accuracy: 0.5079 - loss: 4.2774\n",
      "Epoch 3/30\n",
      "\u001b[1m154/154\u001b[0m \u001b[32m━━━━━━━━━━━━━━━━━━━━\u001b[0m\u001b[37m\u001b[0m \u001b[1m0s\u001b[0m 988us/step - accuracy: 0.5472 - loss: 2.7184\n",
      "Epoch 4/30\n",
      "\u001b[1m154/154\u001b[0m \u001b[32m━━━━━━━━━━━━━━━━━━━━\u001b[0m\u001b[37m\u001b[0m \u001b[1m0s\u001b[0m 994us/step - accuracy: 0.5470 - loss: 1.5135\n",
      "Epoch 5/30\n",
      "\u001b[1m154/154\u001b[0m \u001b[32m━━━━━━━━━━━━━━━━━━━━\u001b[0m\u001b[37m\u001b[0m \u001b[1m0s\u001b[0m 1ms/step - accuracy: 0.5815 - loss: 0.9191\n",
      "Epoch 6/30\n",
      "\u001b[1m154/154\u001b[0m \u001b[32m━━━━━━━━━━━━━━━━━━━━\u001b[0m\u001b[37m\u001b[0m \u001b[1m0s\u001b[0m 1ms/step - accuracy: 0.5945 - loss: 0.8261\n",
      "Epoch 7/30\n",
      "\u001b[1m154/154\u001b[0m \u001b[32m━━━━━━━━━━━━━━━━━━━━\u001b[0m\u001b[37m\u001b[0m \u001b[1m0s\u001b[0m 1ms/step - accuracy: 0.6228 - loss: 0.7454\n",
      "Epoch 8/30\n",
      "\u001b[1m154/154\u001b[0m \u001b[32m━━━━━━━━━━━━━━━━━━━━\u001b[0m\u001b[37m\u001b[0m \u001b[1m0s\u001b[0m 1ms/step - accuracy: 0.6069 - loss: 0.7623\n",
      "Epoch 9/30\n",
      "\u001b[1m154/154\u001b[0m \u001b[32m━━━━━━━━━━━━━━━━━━━━\u001b[0m\u001b[37m\u001b[0m \u001b[1m0s\u001b[0m 997us/step - accuracy: 0.5870 - loss: 0.7285\n",
      "Epoch 10/30\n",
      "\u001b[1m154/154\u001b[0m \u001b[32m━━━━━━━━━━━━━━━━━━━━\u001b[0m\u001b[37m\u001b[0m \u001b[1m0s\u001b[0m 949us/step - accuracy: 0.6310 - loss: 0.6548\n",
      "Epoch 11/30\n",
      "\u001b[1m154/154\u001b[0m \u001b[32m━━━━━━━━━━━━━━━━━━━━\u001b[0m\u001b[37m\u001b[0m \u001b[1m0s\u001b[0m 1ms/step - accuracy: 0.6259 - loss: 0.6743  \n",
      "Epoch 12/30\n",
      "\u001b[1m154/154\u001b[0m \u001b[32m━━━━━━━━━━━━━━━━━━━━\u001b[0m\u001b[37m\u001b[0m \u001b[1m0s\u001b[0m 1ms/step - accuracy: 0.6775 - loss: 0.5900\n",
      "Epoch 13/30\n",
      "\u001b[1m154/154\u001b[0m \u001b[32m━━━━━━━━━━━━━━━━━━━━\u001b[0m\u001b[37m\u001b[0m \u001b[1m0s\u001b[0m 973us/step - accuracy: 0.6612 - loss: 0.6535\n",
      "Epoch 14/30\n",
      "\u001b[1m154/154\u001b[0m \u001b[32m━━━━━━━━━━━━━━━━━━━━\u001b[0m\u001b[37m\u001b[0m \u001b[1m0s\u001b[0m 1ms/step - accuracy: 0.6553 - loss: 0.6200\n",
      "Epoch 15/30\n",
      "\u001b[1m154/154\u001b[0m \u001b[32m━━━━━━━━━━━━━━━━━━━━\u001b[0m\u001b[37m\u001b[0m \u001b[1m0s\u001b[0m 1ms/step - accuracy: 0.6973 - loss: 0.6188\n",
      "Epoch 16/30\n",
      "\u001b[1m154/154\u001b[0m \u001b[32m━━━━━━━━━━━━━━━━━━━━\u001b[0m\u001b[37m\u001b[0m \u001b[1m0s\u001b[0m 1ms/step - accuracy: 0.6379 - loss: 0.6407  \n",
      "Epoch 17/30\n",
      "\u001b[1m154/154\u001b[0m \u001b[32m━━━━━━━━━━━━━━━━━━━━\u001b[0m\u001b[37m\u001b[0m \u001b[1m0s\u001b[0m 1ms/step - accuracy: 0.6758 - loss: 0.6008  \n",
      "Epoch 18/30\n",
      "\u001b[1m154/154\u001b[0m \u001b[32m━━━━━━━━━━━━━━━━━━━━\u001b[0m\u001b[37m\u001b[0m \u001b[1m0s\u001b[0m 1ms/step - accuracy: 0.7074 - loss: 0.6137  \n",
      "Epoch 19/30\n",
      "\u001b[1m154/154\u001b[0m \u001b[32m━━━━━━━━━━━━━━━━━━━━\u001b[0m\u001b[37m\u001b[0m \u001b[1m0s\u001b[0m 1ms/step - accuracy: 0.6742 - loss: 0.6269  \n",
      "Epoch 20/30\n",
      "\u001b[1m154/154\u001b[0m \u001b[32m━━━━━━━━━━━━━━━━━━━━\u001b[0m\u001b[37m\u001b[0m \u001b[1m0s\u001b[0m 1ms/step - accuracy: 0.7106 - loss: 0.6154  \n",
      "Epoch 21/30\n",
      "\u001b[1m154/154\u001b[0m \u001b[32m━━━━━━━━━━━━━━━━━━━━\u001b[0m\u001b[37m\u001b[0m \u001b[1m0s\u001b[0m 1ms/step - accuracy: 0.6515 - loss: 0.6459\n",
      "Epoch 22/30\n",
      "\u001b[1m154/154\u001b[0m \u001b[32m━━━━━━━━━━━━━━━━━━━━\u001b[0m\u001b[37m\u001b[0m \u001b[1m0s\u001b[0m 994us/step - accuracy: 0.6741 - loss: 0.6161\n",
      "Epoch 23/30\n",
      "\u001b[1m154/154\u001b[0m \u001b[32m━━━━━━━━━━━━━━━━━━━━\u001b[0m\u001b[37m\u001b[0m \u001b[1m0s\u001b[0m 1ms/step - accuracy: 0.6867 - loss: 0.6103\n",
      "Epoch 24/30\n",
      "\u001b[1m154/154\u001b[0m \u001b[32m━━━━━━━━━━━━━━━━━━━━\u001b[0m\u001b[37m\u001b[0m \u001b[1m0s\u001b[0m 1ms/step - accuracy: 0.6567 - loss: 0.6366  \n",
      "Epoch 25/30\n",
      "\u001b[1m154/154\u001b[0m \u001b[32m━━━━━━━━━━━━━━━━━━━━\u001b[0m\u001b[37m\u001b[0m \u001b[1m0s\u001b[0m 1ms/step - accuracy: 0.7100 - loss: 0.5712  \n",
      "Epoch 26/30\n",
      "\u001b[1m154/154\u001b[0m \u001b[32m━━━━━━━━━━━━━━━━━━━━\u001b[0m\u001b[37m\u001b[0m \u001b[1m0s\u001b[0m 1ms/step - accuracy: 0.6659 - loss: 0.5999\n",
      "Epoch 27/30\n",
      "\u001b[1m154/154\u001b[0m \u001b[32m━━━━━━━━━━━━━━━━━━━━\u001b[0m\u001b[37m\u001b[0m \u001b[1m0s\u001b[0m 1ms/step - accuracy: 0.6938 - loss: 0.5948\n",
      "Epoch 28/30\n",
      "\u001b[1m154/154\u001b[0m \u001b[32m━━━━━━━━━━━━━━━━━━━━\u001b[0m\u001b[37m\u001b[0m \u001b[1m0s\u001b[0m 973us/step - accuracy: 0.6847 - loss: 0.5967\n",
      "Epoch 29/30\n",
      "\u001b[1m154/154\u001b[0m \u001b[32m━━━━━━━━━━━━━━━━━━━━\u001b[0m\u001b[37m\u001b[0m \u001b[1m0s\u001b[0m 989us/step - accuracy: 0.6915 - loss: 0.6252\n",
      "Epoch 30/30\n",
      "\u001b[1m154/154\u001b[0m \u001b[32m━━━━━━━━━━━━━━━━━━━━\u001b[0m\u001b[37m\u001b[0m \u001b[1m0s\u001b[0m 1ms/step - accuracy: 0.6899 - loss: 0.5983  \n"
     ]
    },
    {
     "data": {
      "text/plain": [
       "<keras.src.callbacks.history.History at 0x2a55303c3e0>"
      ]
     },
     "execution_count": 13,
     "metadata": {},
     "output_type": "execute_result"
    }
   ],
   "source": [
    "model.fit(x,y,epochs=30,batch_size=5)"
   ]
  },
  {
   "cell_type": "code",
   "execution_count": 14,
   "id": "fd112a32-4660-4878-abd1-c6641052d043",
   "metadata": {},
   "outputs": [
    {
     "name": "stdout",
     "output_type": "stream",
     "text": [
      "\u001b[1m24/24\u001b[0m \u001b[32m━━━━━━━━━━━━━━━━━━━━\u001b[0m\u001b[37m\u001b[0m \u001b[1m0s\u001b[0m 2ms/step - accuracy: 0.6712 - loss: 0.6043  \n",
      "Accuracy:69.27\n"
     ]
    }
   ],
   "source": [
    "_,accuracy=model.evaluate(x,y)\n",
    "print('Accuracy:%.2f'%(accuracy*100))"
   ]
  }
 ],
 "metadata": {
  "kernelspec": {
   "display_name": "Python 3 (ipykernel)",
   "language": "python",
   "name": "python3"
  },
  "language_info": {
   "codemirror_mode": {
    "name": "ipython",
    "version": 3
   },
   "file_extension": ".py",
   "mimetype": "text/x-python",
   "name": "python",
   "nbconvert_exporter": "python",
   "pygments_lexer": "ipython3",
   "version": "3.12.7"
  }
 },
 "nbformat": 4,
 "nbformat_minor": 5
}
